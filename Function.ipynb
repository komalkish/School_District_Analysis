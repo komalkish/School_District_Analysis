{
 "cells": [
  {
   "cell_type": "code",
   "execution_count": 6,
   "id": "02c20850",
   "metadata": {},
   "outputs": [],
   "source": [
    "# define function that says hello\n",
    "def say_hello():\n",
    "    print(\"Hello\")"
   ]
  },
  {
   "cell_type": "code",
   "execution_count": 7,
   "id": "b72f3254",
   "metadata": {},
   "outputs": [
    {
     "name": "stdout",
     "output_type": "stream",
     "text": [
      "Hello\n"
     ]
    }
   ],
   "source": [
    "say_hello()"
   ]
  },
  {
   "cell_type": "code",
   "execution_count": 12,
   "id": "8948c55c",
   "metadata": {},
   "outputs": [],
   "source": [
    "def say_something(something):\n",
    "    print(something)"
   ]
  },
  {
   "cell_type": "code",
   "execution_count": 13,
   "id": "983063e5",
   "metadata": {},
   "outputs": [
    {
     "name": "stdout",
     "output_type": "stream",
     "text": [
      "Komal\n"
     ]
    }
   ],
   "source": [
    "say_something(\"Komal\")"
   ]
  },
  {
   "cell_type": "code",
   "execution_count": 14,
   "id": "0db56e37",
   "metadata": {},
   "outputs": [],
   "source": [
    "komal_says = \"This is stupid\""
   ]
  },
  {
   "cell_type": "code",
   "execution_count": 15,
   "id": "5797717b",
   "metadata": {},
   "outputs": [
    {
     "name": "stdout",
     "output_type": "stream",
     "text": [
      "This is stupid\n"
     ]
    }
   ],
   "source": [
    "say_something(komal_says)"
   ]
  },
  {
   "cell_type": "code",
   "execution_count": 16,
   "id": "eee5bedb",
   "metadata": {},
   "outputs": [],
   "source": [
    "def passing_math_percentage(count_math_students, student_count):\n",
    "    return count_math_students/ float (student_count) * 100"
   ]
  },
  {
   "cell_type": "code",
   "execution_count": 20,
   "id": "598ffcbd",
   "metadata": {},
   "outputs": [],
   "source": [
    "count_math_students = 4500\n",
    "student_count = 100000"
   ]
  },
  {
   "cell_type": "code",
   "execution_count": 21,
   "id": "6c8df59e",
   "metadata": {},
   "outputs": [
    {
     "data": {
      "text/plain": [
       "4.5"
      ]
     },
     "execution_count": 21,
     "metadata": {},
     "output_type": "execute_result"
    }
   ],
   "source": [
    "passing_math_percentage(count_math_students, student_count)"
   ]
  },
  {
   "cell_type": "code",
   "execution_count": 22,
   "id": "09fa01c2",
   "metadata": {},
   "outputs": [],
   "source": [
    "import pandas as pd"
   ]
  },
  {
   "cell_type": "code",
   "execution_count": 23,
   "id": "38723a6c",
   "metadata": {},
   "outputs": [],
   "source": [
    "mygrades = [\"A\",\"B\"]"
   ]
  },
  {
   "cell_type": "code",
   "execution_count": 26,
   "id": "7e076211",
   "metadata": {},
   "outputs": [
    {
     "data": {
      "text/plain": [
       "0    A\n",
       "1    B\n",
       "dtype: object"
      ]
     },
     "execution_count": 26,
     "metadata": {},
     "output_type": "execute_result"
    }
   ],
   "source": [
    "mygrades = pd.Series(mygrades)\n",
    "mygrades"
   ]
  },
  {
   "cell_type": "code",
   "execution_count": null,
   "id": "53dcfa56",
   "metadata": {},
   "outputs": [],
   "source": []
  }
 ],
 "metadata": {
  "kernelspec": {
   "display_name": "PythonData",
   "language": "python",
   "name": "pythondata"
  },
  "language_info": {
   "codemirror_mode": {
    "name": "ipython",
    "version": 3
   },
   "file_extension": ".py",
   "mimetype": "text/x-python",
   "name": "python",
   "nbconvert_exporter": "python",
   "pygments_lexer": "ipython3",
   "version": "3.8.8"
  }
 },
 "nbformat": 4,
 "nbformat_minor": 5
}
